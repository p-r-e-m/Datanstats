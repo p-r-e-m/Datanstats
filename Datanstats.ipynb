{
 "cells": [
  {
   "cell_type": "markdown",
   "id": "b4e90b5a",
   "metadata": {},
   "source": [
    " # Assignment of Datanstats"
   ]
  },
  {
   "cell_type": "code",
   "execution_count": 161,
   "id": "766bfec8",
   "metadata": {},
   "outputs": [
    {
     "name": "stdout",
     "output_type": "stream",
     "text": [
      "Requirement already satisfied: selenium in c:\\users\\hp\\anaconda3\\lib\\site-packages (4.1.3)\n",
      "Requirement already satisfied: trio-websocket~=0.9 in c:\\users\\hp\\anaconda3\\lib\\site-packages (from selenium) (0.9.2)\n",
      "Requirement already satisfied: urllib3[secure,socks]~=1.26 in c:\\users\\hp\\anaconda3\\lib\\site-packages (from selenium) (1.26.4)\n",
      "Requirement already satisfied: trio~=0.17 in c:\\users\\hp\\anaconda3\\lib\\site-packages (from selenium) (0.20.0)\n",
      "Requirement already satisfied: cffi>=1.14 in c:\\users\\hp\\anaconda3\\lib\\site-packages (from trio~=0.17->selenium) (1.14.5)\n",
      "Requirement already satisfied: attrs>=19.2.0 in c:\\users\\hp\\anaconda3\\lib\\site-packages (from trio~=0.17->selenium) (20.3.0)\n",
      "Requirement already satisfied: sortedcontainers in c:\\users\\hp\\anaconda3\\lib\\site-packages (from trio~=0.17->selenium) (2.3.0)\n",
      "Requirement already satisfied: outcome in c:\\users\\hp\\anaconda3\\lib\\site-packages (from trio~=0.17->selenium) (1.1.0)\n",
      "Requirement already satisfied: idna in c:\\users\\hp\\anaconda3\\lib\\site-packages (from trio~=0.17->selenium) (2.10)\n",
      "Requirement already satisfied: async-generator>=1.9 in c:\\users\\hp\\anaconda3\\lib\\site-packages (from trio~=0.17->selenium) (1.10)\n",
      "Requirement already satisfied: sniffio in c:\\users\\hp\\anaconda3\\lib\\site-packages (from trio~=0.17->selenium) (1.2.0)\n",
      "Requirement already satisfied: pycparser in c:\\users\\hp\\anaconda3\\lib\\site-packages (from cffi>=1.14->trio~=0.17->selenium) (2.20)\n",
      "Requirement already satisfied: wsproto>=0.14 in c:\\users\\hp\\anaconda3\\lib\\site-packages (from trio-websocket~=0.9->selenium) (1.1.0)\n",
      "Requirement already satisfied: PySocks!=1.5.7,<2.0,>=1.5.6 in c:\\users\\hp\\anaconda3\\lib\\site-packages (from urllib3[secure,socks]~=1.26->selenium) (1.7.1)\n",
      "Requirement already satisfied: pyOpenSSL>=0.14 in c:\\users\\hp\\anaconda3\\lib\\site-packages (from urllib3[secure,socks]~=1.26->selenium) (20.0.1)\n",
      "Requirement already satisfied: certifi in c:\\users\\hp\\anaconda3\\lib\\site-packages (from urllib3[secure,socks]~=1.26->selenium) (2020.12.5)\n",
      "Requirement already satisfied: cryptography>=1.3.4 in c:\\users\\hp\\anaconda3\\lib\\site-packages (from urllib3[secure,socks]~=1.26->selenium) (3.4.7)\n",
      "Requirement already satisfied: six>=1.5.2 in c:\\users\\hp\\anaconda3\\lib\\site-packages (from pyOpenSSL>=0.14->urllib3[secure,socks]~=1.26->selenium) (1.15.0)\n",
      "Requirement already satisfied: h11<1,>=0.9.0 in c:\\users\\hp\\anaconda3\\lib\\site-packages (from wsproto>=0.14->trio-websocket~=0.9->selenium) (0.13.0)\n",
      "Requirement already satisfied: bs4 in c:\\users\\hp\\anaconda3\\lib\\site-packages (0.0.1)\n",
      "Requirement already satisfied: beautifulsoup4 in c:\\users\\hp\\anaconda3\\lib\\site-packages (from bs4) (4.9.3)\n",
      "Requirement already satisfied: soupsieve>1.2 in c:\\users\\hp\\anaconda3\\lib\\site-packages (from beautifulsoup4->bs4) (2.2.1)\n",
      "Requirement already satisfied: requests in c:\\users\\hp\\anaconda3\\lib\\site-packages (2.25.1)\n",
      "Requirement already satisfied: chardet<5,>=3.0.2 in c:\\users\\hp\\anaconda3\\lib\\site-packages (from requests) (4.0.0)\n",
      "Requirement already satisfied: idna<3,>=2.5 in c:\\users\\hp\\anaconda3\\lib\\site-packages (from requests) (2.10)\n",
      "Requirement already satisfied: urllib3<1.27,>=1.21.1 in c:\\users\\hp\\anaconda3\\lib\\site-packages (from requests) (1.26.4)\n",
      "Requirement already satisfied: certifi>=2017.4.17 in c:\\users\\hp\\anaconda3\\lib\\site-packages (from requests) (2020.12.5)\n"
     ]
    }
   ],
   "source": [
    "# install webscraping liabrary\n",
    "!pip install selenium\n",
    "!pip install bs4\n",
    "!pip install requests"
   ]
  },
  {
   "cell_type": "code",
   "execution_count": 162,
   "id": "49d8f73a",
   "metadata": {},
   "outputs": [],
   "source": [
    "# import all required tools\n",
    "from bs4 import BeautifulSoup\n",
    "import requests\n",
    "import warnings\n",
    "warnings.filterwarnings(\"ignore\", category=DeprecationWarning) \n",
    "import selenium\n",
    "import pandas as pd\n",
    "from selenium import webdriver\n",
    "import time\n",
    "from selenium.webdriver.chrome.options import Options\n",
    "chrome_options = Options()\n",
    "chrome_options.add_argument('--incognito')\n",
    "from selenium.common.exceptions import StaleElementReferenceException, NoSuchElementException,ElementNotInteractableException,InvalidArgumentException,InvalidCookieDomainException"
   ]
  },
  {
   "cell_type": "markdown",
   "id": "e3618811",
   "metadata": {},
   "source": [
    "# 1. Create a scraper for flipkart that will scrape data for search results  (atleast up to page 2 if available). For example: search for “mobile” keyword on flipkart and scrape the following parameters from the search results.\n",
    "### Title\n",
    "### Ratings\n",
    "### Price\n",
    "### URL of that item"
   ]
  },
  {
   "cell_type": "code",
   "execution_count": 209,
   "id": "95fd14cc",
   "metadata": {},
   "outputs": [],
   "source": [
    "# calling webdriver\n",
    "scraper = webdriver.Chrome(r\"C:\\Users\\hp\\OneDrive\\Desktop\\chromedriver.exe\")"
   ]
  },
  {
   "cell_type": "code",
   "execution_count": 210,
   "id": "21be5a25",
   "metadata": {},
   "outputs": [],
   "source": [
    "#specifying the url of the webpage to be scraped\n",
    "url=\" https://www.flipkart.com/\""
   ]
  },
  {
   "cell_type": "code",
   "execution_count": 211,
   "id": "3eeeaca9",
   "metadata": {},
   "outputs": [],
   "source": [
    "# get url \n",
    "scraper.get(url)\n",
    "time.sleep(5)"
   ]
  },
  {
   "cell_type": "code",
   "execution_count": 213,
   "id": "21eb5478",
   "metadata": {},
   "outputs": [],
   "source": [
    "#interacting with the webpage\n",
    "scraper.find_element_by_xpath('//*[@id=\"container\"]/div/div[1]/div[1]/div[2]/div[2]/form/div/div/input').send_keys(\"mobile\")\n",
    "scraper.find_element_by_xpath('//*[@id=\"container\"]/div/div[1]/div[1]/div[2]/div[2]/form/div/button').click()"
   ]
  },
  {
   "cell_type": "code",
   "execution_count": 214,
   "id": "69c049a9",
   "metadata": {},
   "outputs": [],
   "source": [
    "#creating the empty lists\n",
    "Title=[]\n",
    "Rating=[]\n",
    "Price=[]\n"
   ]
  },
  {
   "cell_type": "code",
   "execution_count": 215,
   "id": "f51b643b",
   "metadata": {},
   "outputs": [],
   "source": [
    "URL=[]\n",
    "for i in range(0,3):\n",
    "    mobile=scraper.find_elements_by_xpath(\"//a[@class='_1fQZEK']\")\n",
    "    for i in mobile:\n",
    "        URL.append(i.get_attribute('href'))\n",
    "   # scarper.find_element_by_xpath('//*[@id=\"container\"]/div/div[3]/div[1]/div[2]/div[12]/div/div/nav/a[11]').click()\n",
    "    time.sleep(3)"
   ]
  },
  {
   "cell_type": "code",
   "execution_count": 216,
   "id": "ac0e2b04",
   "metadata": {},
   "outputs": [],
   "source": [
    "list_of_url=URL"
   ]
  },
  {
   "cell_type": "code",
   "execution_count": 217,
   "id": "258e9b6f",
   "metadata": {},
   "outputs": [
    {
     "data": {
      "text/plain": [
       "72"
      ]
     },
     "execution_count": 217,
     "metadata": {},
     "output_type": "execute_result"
    }
   ],
   "source": [
    "# check no. of url\n",
    "len(list_of_url)"
   ]
  },
  {
   "cell_type": "code",
   "execution_count": 218,
   "id": "b57206cc",
   "metadata": {},
   "outputs": [],
   "source": [
    "#going to the url of first sunglasses through our driver\n",
    "scraper.get(list_of_url[0])"
   ]
  },
  {
   "cell_type": "code",
   "execution_count": 219,
   "id": "0d15475f",
   "metadata": {},
   "outputs": [
    {
     "name": "stderr",
     "output_type": "stream",
     "text": [
      "100%|██████████████████████████████████████████████████████████████████████████████████| 72/72 [04:09<00:00,  3.47s/it]\n"
     ]
    }
   ],
   "source": [
    "#running a loop to extract all the required information from the list_of_url\n",
    "\n",
    "from tqdm import tqdm\n",
    "for i in tqdm(list_of_url):\n",
    "    scraper.get(i)\n",
    "    try:\n",
    "        title=scraper.find_element_by_xpath(\"/html/body/div[1]/div/div[3]/div[1]/div[2]/div[2]/div/div[1]/h1/span\").text\n",
    "        Title.append(title)\n",
    "        \n",
    "        rating=scraper.find_element_by_xpath(\"/html/body/div[1]/div/div[3]/div[1]/div[2]/div[8]/div[6]/div/div[2]/div/div/div[1]/div/div[1]/div/div[1]\").text\n",
    "        Rating.append(rating)\n",
    "        \n",
    "        price=scraper.find_element_by_xpath('//*[@id=\"container\"]/div/div[3]/div[1]/div[2]/div[2]/div/div[3]/div[1]/div/div').text\n",
    "        Price.append(price)\n",
    "       \n",
    "    except NoSuchElementException:\n",
    "        Title.append(\"Null\")\n",
    "        Rating.append(\"Null\")\n",
    "        Price.append(\"Null\")\n",
    "      "
   ]
  },
  {
   "cell_type": "code",
   "execution_count": 220,
   "id": "f1a45a91",
   "metadata": {},
   "outputs": [
    {
     "name": "stdout",
     "output_type": "stream",
     "text": [
      "134 72 83 72\n"
     ]
    }
   ],
   "source": [
    "print(len(Title),len(Price),len(Rating),len(URL))"
   ]
  },
  {
   "cell_type": "code",
   "execution_count": 221,
   "id": "5e902f8c",
   "metadata": {},
   "outputs": [],
   "source": [
    "# create mobile dataframe\n",
    "Mobiles=pd.DataFrame({})\n",
    "Mobiles['Title']=Title[:72]\n",
    "Mobiles['Rating']=Rating[:72]\n",
    "Mobiles['Price']=Price[:72]\n",
    "Mobiles['URL']=URL[:72]"
   ]
  },
  {
   "cell_type": "code",
   "execution_count": 222,
   "id": "40056837",
   "metadata": {},
   "outputs": [
    {
     "data": {
      "text/html": [
       "<div>\n",
       "<style scoped>\n",
       "    .dataframe tbody tr th:only-of-type {\n",
       "        vertical-align: middle;\n",
       "    }\n",
       "\n",
       "    .dataframe tbody tr th {\n",
       "        vertical-align: top;\n",
       "    }\n",
       "\n",
       "    .dataframe thead th {\n",
       "        text-align: right;\n",
       "    }\n",
       "</style>\n",
       "<table border=\"1\" class=\"dataframe\">\n",
       "  <thead>\n",
       "    <tr style=\"text-align: right;\">\n",
       "      <th></th>\n",
       "      <th>Title</th>\n",
       "      <th>Rating</th>\n",
       "      <th>Price</th>\n",
       "      <th>URL</th>\n",
       "    </tr>\n",
       "  </thead>\n",
       "  <tbody>\n",
       "    <tr>\n",
       "      <th>0</th>\n",
       "      <td>GREENBERRI FOLD  (Red)</td>\n",
       "      <td>4.6</td>\n",
       "      <td>₹1,499</td>\n",
       "      <td>https://www.flipkart.com/greenberri-fold/p/itm...</td>\n",
       "    </tr>\n",
       "    <tr>\n",
       "      <th>1</th>\n",
       "      <td>GREENBERRI VIRAT  (BLACK &amp; GOLD)</td>\n",
       "      <td>Null</td>\n",
       "      <td>Null</td>\n",
       "      <td>https://www.flipkart.com/greenberri-virat/p/it...</td>\n",
       "    </tr>\n",
       "    <tr>\n",
       "      <th>2</th>\n",
       "      <td>Null</td>\n",
       "      <td>₹7,499₹7,9996% off</td>\n",
       "      <td>₹7,499</td>\n",
       "      <td>https://www.flipkart.com/realme-c11-2021-cool-...</td>\n",
       "    </tr>\n",
       "    <tr>\n",
       "      <th>3</th>\n",
       "      <td>realme C11 2021 (Cool Blue, 32 GB)  (2 GB RAM)</td>\n",
       "      <td>Null</td>\n",
       "      <td>Null</td>\n",
       "      <td>https://www.flipkart.com/realme-c11-2021-cool-...</td>\n",
       "    </tr>\n",
       "    <tr>\n",
       "      <th>4</th>\n",
       "      <td>realme C11 2021 (Cool Grey, 32 GB)  (2 GB RAM)</td>\n",
       "      <td>Null</td>\n",
       "      <td>Null</td>\n",
       "      <td>https://www.flipkart.com/realme-c11-2021-cool-...</td>\n",
       "    </tr>\n",
       "    <tr>\n",
       "      <th>...</th>\n",
       "      <td>...</td>\n",
       "      <td>...</td>\n",
       "      <td>...</td>\n",
       "      <td>...</td>\n",
       "    </tr>\n",
       "    <tr>\n",
       "      <th>67</th>\n",
       "      <td>Null</td>\n",
       "      <td>₹8,499₹11,99929% off</td>\n",
       "      <td>Null</td>\n",
       "      <td>https://www.flipkart.com/realme-9-sunburst-gol...</td>\n",
       "    </tr>\n",
       "    <tr>\n",
       "      <th>68</th>\n",
       "      <td>realme Narzo 50i (Carbon Black, 32 GB)  (2 GB ...</td>\n",
       "      <td>Null</td>\n",
       "      <td>Null</td>\n",
       "      <td>https://www.flipkart.com/realme-narzo-50i-mint...</td>\n",
       "    </tr>\n",
       "    <tr>\n",
       "      <th>69</th>\n",
       "      <td>Null</td>\n",
       "      <td>₹14,999₹21,99931% off</td>\n",
       "      <td>Null</td>\n",
       "      <td>https://www.flipkart.com/realme-9i-prism-black...</td>\n",
       "    </tr>\n",
       "    <tr>\n",
       "      <th>70</th>\n",
       "      <td>MOTOROLA G60 (Soft Silver, 128 GB)  (6 GB RAM)</td>\n",
       "      <td>Null</td>\n",
       "      <td>Null</td>\n",
       "      <td>https://www.flipkart.com/realme-9i-prism-blue-...</td>\n",
       "    </tr>\n",
       "    <tr>\n",
       "      <th>71</th>\n",
       "      <td>Null</td>\n",
       "      <td>Null</td>\n",
       "      <td>Null</td>\n",
       "      <td>https://www.flipkart.com/realme-c35-glowing-bl...</td>\n",
       "    </tr>\n",
       "  </tbody>\n",
       "</table>\n",
       "<p>72 rows × 4 columns</p>\n",
       "</div>"
      ],
      "text/plain": [
       "                                                Title                 Rating  \\\n",
       "0                              GREENBERRI FOLD  (Red)                    4.6   \n",
       "1                    GREENBERRI VIRAT  (BLACK & GOLD)                   Null   \n",
       "2                                                Null     ₹7,499₹7,9996% off   \n",
       "3      realme C11 2021 (Cool Blue, 32 GB)  (2 GB RAM)                   Null   \n",
       "4      realme C11 2021 (Cool Grey, 32 GB)  (2 GB RAM)                   Null   \n",
       "..                                                ...                    ...   \n",
       "67                                               Null   ₹8,499₹11,99929% off   \n",
       "68  realme Narzo 50i (Carbon Black, 32 GB)  (2 GB ...                   Null   \n",
       "69                                               Null  ₹14,999₹21,99931% off   \n",
       "70     MOTOROLA G60 (Soft Silver, 128 GB)  (6 GB RAM)                   Null   \n",
       "71                                               Null                   Null   \n",
       "\n",
       "     Price                                                URL  \n",
       "0   ₹1,499  https://www.flipkart.com/greenberri-fold/p/itm...  \n",
       "1     Null  https://www.flipkart.com/greenberri-virat/p/it...  \n",
       "2   ₹7,499  https://www.flipkart.com/realme-c11-2021-cool-...  \n",
       "3     Null  https://www.flipkart.com/realme-c11-2021-cool-...  \n",
       "4     Null  https://www.flipkart.com/realme-c11-2021-cool-...  \n",
       "..     ...                                                ...  \n",
       "67    Null  https://www.flipkart.com/realme-9-sunburst-gol...  \n",
       "68    Null  https://www.flipkart.com/realme-narzo-50i-mint...  \n",
       "69    Null  https://www.flipkart.com/realme-9i-prism-black...  \n",
       "70    Null  https://www.flipkart.com/realme-9i-prism-blue-...  \n",
       "71    Null  https://www.flipkart.com/realme-c35-glowing-bl...  \n",
       "\n",
       "[72 rows x 4 columns]"
      ]
     },
     "execution_count": 222,
     "metadata": {},
     "output_type": "execute_result"
    }
   ],
   "source": [
    "Mobiles"
   ]
  },
  {
   "cell_type": "code",
   "execution_count": 223,
   "id": "a15f1926",
   "metadata": {},
   "outputs": [],
   "source": [
    "# convert dataframe into csv mode\n",
    "Mobiles.to_csv('Mobiles.csv')"
   ]
  },
  {
   "cell_type": "markdown",
   "id": "7197af14",
   "metadata": {},
   "source": [
    "# 2. Write a Python program to find the current weather report (temperature, wind speed, description and weather) of a given city"
   ]
  },
  {
   "cell_type": "code",
   "execution_count": 163,
   "id": "f034e35c",
   "metadata": {},
   "outputs": [],
   "source": [
    "# calling webdriver\n",
    "scraper = webdriver.Chrome(r\"C:\\Users\\hp\\OneDrive\\Desktop\\chromedriver.exe\")"
   ]
  },
  {
   "cell_type": "code",
   "execution_count": 164,
   "id": "2fce9039",
   "metadata": {},
   "outputs": [],
   "source": [
    "# geting link\n",
    "url='https://www.accuweather.com/en/in/delhi/202396/weather-forecast/202396'"
   ]
  },
  {
   "cell_type": "code",
   "execution_count": 165,
   "id": "4f9f6a91",
   "metadata": {},
   "outputs": [],
   "source": [
    "scraper.get(url)"
   ]
  },
  {
   "cell_type": "code",
   "execution_count": 166,
   "id": "bf571e36",
   "metadata": {},
   "outputs": [
    {
     "data": {
      "text/plain": [
       "'29°C'"
      ]
     },
     "execution_count": 166,
     "metadata": {},
     "output_type": "execute_result"
    }
   ],
   "source": [
    "# searching for temprature\n",
    "temprature=scraper.find_element_by_xpath('/html/body/div/div[5]/div[1]/div[1]/a[1]/div[1]/div[1]/div/div/div[1]')\n",
    "Temprature=temprature.text\n",
    "Temprature"
   ]
  },
  {
   "cell_type": "code",
   "execution_count": 168,
   "id": "1e19cd5e",
   "metadata": {},
   "outputs": [
    {
     "data": {
      "text/plain": [
       "'SE 13 km/h'"
      ]
     },
     "execution_count": 168,
     "metadata": {},
     "output_type": "execute_result"
    }
   ],
   "source": [
    "# searching for wind speed\n",
    "wind_speed=scraper.find_element_by_xpath('/html/body/div/div[5]/div[1]/div[1]/div[2]/div[3]/div[1]/div[1]/div[2]')\n",
    "Wind_Speed=wind_speed.text\n",
    "Wind_Speed"
   ]
  },
  {
   "cell_type": "code",
   "execution_count": 170,
   "id": "acce8253",
   "metadata": {},
   "outputs": [
    {
     "data": {
      "text/plain": [
       "'Health effects can be immediately felt by sensitive groups. Healthy individuals may experience difficulty breathing and throat irritation with prolonged exposure. Limit outdoor activity.'"
      ]
     },
     "execution_count": 170,
     "metadata": {},
     "output_type": "execute_result"
    }
   ],
   "source": [
    "# searching for description\n",
    "description=scraper.find_element_by_xpath('/html/body/div/div[5]/div[1]/div[1]/div[1]/div/div[2]/div[2]/h3/p[2]')\n",
    "Description=description.text\n",
    "Description"
   ]
  },
  {
   "cell_type": "code",
   "execution_count": 171,
   "id": "a70766e5",
   "metadata": {},
   "outputs": [
    {
     "data": {
      "text/plain": [
       "'Clear'"
      ]
     },
     "execution_count": 171,
     "metadata": {},
     "output_type": "execute_result"
    }
   ],
   "source": [
    "weather=scraper.find_element_by_xpath('/html/body/div/div[5]/div[1]/div[1]/a[1]/div[2]/span[1]')\n",
    "Weather=weather.text\n",
    "Weather"
   ]
  },
  {
   "cell_type": "code",
   "execution_count": 172,
   "id": "f12a0e03",
   "metadata": {},
   "outputs": [
    {
     "name": "stdout",
     "output_type": "stream",
     "text": [
      "Temprature----> 29°C\n",
      "Wind_Speed----> SE 13 km/h\n",
      "Descriptoin----> Health effects can be immediately felt by sensitive groups. Healthy individuals may experience difficulty breathing and throat irritation with prolonged exposure. Limit outdoor activity.\n",
      "Weather----> Clear\n"
     ]
    }
   ],
   "source": [
    "print('Temprature---->',Temprature)\n",
    "print('Wind_Speed---->',Wind_Speed)\n",
    "print('Descriptoin---->',Description)\n",
    "print('Weather---->',Weather)"
   ]
  },
  {
   "cell_type": "markdown",
   "id": "49f2624a",
   "metadata": {},
   "source": [
    "# 3. Write a Python program to download IMDB's top 50 data (movie name, Initial release, director name and stars)"
   ]
  },
  {
   "cell_type": "code",
   "execution_count": 173,
   "id": "7787ec2a",
   "metadata": {},
   "outputs": [],
   "source": [
    "# geting link\n",
    "link='https://www.imdb.com/search/title/?groups=top_100&sort=user_rating,desc'\n",
    "page=requests.get(link).text"
   ]
  },
  {
   "cell_type": "code",
   "execution_count": 174,
   "id": "98e7c115",
   "metadata": {},
   "outputs": [],
   "source": [
    "scraper=BeautifulSoup(page,'html.parser')"
   ]
  },
  {
   "cell_type": "code",
   "execution_count": 175,
   "id": "714a37dd",
   "metadata": {},
   "outputs": [],
   "source": [
    "movie_data=scraper.findAll('div',class_='lister-item-content')"
   ]
  },
  {
   "cell_type": "code",
   "execution_count": 176,
   "id": "040f6a9e",
   "metadata": {},
   "outputs": [],
   "source": [
    "Movie_name=[]\n",
    "Initial_release=[]\n",
    "Crew=[]\n",
    "\n",
    "\n",
    "for data in movie_data:\n",
    "    name=data.h3.a.text\n",
    "    Movie_name.append(name)\n",
    "    \n",
    "    year_of_release = data.h3.find('span', class_ = 'lister-item-year text-muted unbold').text.replace('(', '').replace(')', '')\n",
    "    Initial_release.append(year_of_release)\n",
    "    \n",
    "    crew=data.find('p',class_='').text.replace('\\n','').split()\n",
    "    Crew.append(crew)\n",
    "    "
   ]
  },
  {
   "cell_type": "code",
   "execution_count": 177,
   "id": "1afad1c1",
   "metadata": {},
   "outputs": [],
   "source": [
    "Top_50_movie=pd.DataFrame({})\n",
    "Top_50_movie['Movie_Name']=Movie_name\n",
    "Top_50_movie['Initial_release']=Initial_release\n",
    "Top_50_movie['Crew']=Crew"
   ]
  },
  {
   "cell_type": "code",
   "execution_count": 178,
   "id": "2ca0c0fb",
   "metadata": {},
   "outputs": [],
   "source": [
    "TOP50=Top_50_movie[:50]"
   ]
  },
  {
   "cell_type": "code",
   "execution_count": 179,
   "id": "4a3edbf6",
   "metadata": {},
   "outputs": [
    {
     "data": {
      "text/html": [
       "<div>\n",
       "<style scoped>\n",
       "    .dataframe tbody tr th:only-of-type {\n",
       "        vertical-align: middle;\n",
       "    }\n",
       "\n",
       "    .dataframe tbody tr th {\n",
       "        vertical-align: top;\n",
       "    }\n",
       "\n",
       "    .dataframe thead th {\n",
       "        text-align: right;\n",
       "    }\n",
       "</style>\n",
       "<table border=\"1\" class=\"dataframe\">\n",
       "  <thead>\n",
       "    <tr style=\"text-align: right;\">\n",
       "      <th></th>\n",
       "      <th>Movie_Name</th>\n",
       "      <th>Initial_release</th>\n",
       "      <th>Crew</th>\n",
       "    </tr>\n",
       "  </thead>\n",
       "  <tbody>\n",
       "    <tr>\n",
       "      <th>0</th>\n",
       "      <td>The Shawshank Redemption</td>\n",
       "      <td>1994</td>\n",
       "      <td>[Director:Frank, Darabont|, Stars:Tim, Robbins...</td>\n",
       "    </tr>\n",
       "    <tr>\n",
       "      <th>1</th>\n",
       "      <td>The Godfather</td>\n",
       "      <td>1972</td>\n",
       "      <td>[Director:Francis, Ford, Coppola|, Stars:Marlo...</td>\n",
       "    </tr>\n",
       "    <tr>\n",
       "      <th>2</th>\n",
       "      <td>The Dark Knight</td>\n",
       "      <td>2008</td>\n",
       "      <td>[Director:Christopher, Nolan|, Stars:Christian...</td>\n",
       "    </tr>\n",
       "    <tr>\n",
       "      <th>3</th>\n",
       "      <td>The Lord of the Rings: The Return of the King</td>\n",
       "      <td>2003</td>\n",
       "      <td>[Director:Peter, Jackson|, Stars:Elijah, Wood,...</td>\n",
       "    </tr>\n",
       "    <tr>\n",
       "      <th>4</th>\n",
       "      <td>Schindler's List</td>\n",
       "      <td>1993</td>\n",
       "      <td>[Director:Steven, Spielberg|, Stars:Liam, Nees...</td>\n",
       "    </tr>\n",
       "    <tr>\n",
       "      <th>5</th>\n",
       "      <td>The Godfather: Part II</td>\n",
       "      <td>1974</td>\n",
       "      <td>[Director:Francis, Ford, Coppola|, Stars:Al, P...</td>\n",
       "    </tr>\n",
       "    <tr>\n",
       "      <th>6</th>\n",
       "      <td>12 Angry Men</td>\n",
       "      <td>1957</td>\n",
       "      <td>[Director:Sidney, Lumet|, Stars:Henry, Fonda,,...</td>\n",
       "    </tr>\n",
       "    <tr>\n",
       "      <th>7</th>\n",
       "      <td>Pulp Fiction</td>\n",
       "      <td>1994</td>\n",
       "      <td>[Director:Quentin, Tarantino|, Stars:John, Tra...</td>\n",
       "    </tr>\n",
       "    <tr>\n",
       "      <th>8</th>\n",
       "      <td>Everything Everywhere All at Once</td>\n",
       "      <td>2022</td>\n",
       "      <td>[Directors:Dan, Kwan,, Daniel, Scheinert|, Sta...</td>\n",
       "    </tr>\n",
       "    <tr>\n",
       "      <th>9</th>\n",
       "      <td>Inception</td>\n",
       "      <td>2010</td>\n",
       "      <td>[Director:Christopher, Nolan|, Stars:Leonardo,...</td>\n",
       "    </tr>\n",
       "    <tr>\n",
       "      <th>10</th>\n",
       "      <td>The Lord of the Rings: The Two Towers</td>\n",
       "      <td>2002</td>\n",
       "      <td>[Director:Peter, Jackson|, Stars:Elijah, Wood,...</td>\n",
       "    </tr>\n",
       "    <tr>\n",
       "      <th>11</th>\n",
       "      <td>Fight Club</td>\n",
       "      <td>1999</td>\n",
       "      <td>[Director:David, Fincher|, Stars:Brad, Pitt,, ...</td>\n",
       "    </tr>\n",
       "    <tr>\n",
       "      <th>12</th>\n",
       "      <td>The Lord of the Rings: The Fellowship of the Ring</td>\n",
       "      <td>2001</td>\n",
       "      <td>[Director:Peter, Jackson|, Stars:Elijah, Wood,...</td>\n",
       "    </tr>\n",
       "    <tr>\n",
       "      <th>13</th>\n",
       "      <td>Forrest Gump</td>\n",
       "      <td>1994</td>\n",
       "      <td>[Director:Robert, Zemeckis|, Stars:Tom, Hanks,...</td>\n",
       "    </tr>\n",
       "    <tr>\n",
       "      <th>14</th>\n",
       "      <td>Il buono, il brutto, il cattivo</td>\n",
       "      <td>1966</td>\n",
       "      <td>[Director:Sergio, Leone|, Stars:Clint, Eastwoo...</td>\n",
       "    </tr>\n",
       "    <tr>\n",
       "      <th>15</th>\n",
       "      <td>The Matrix</td>\n",
       "      <td>1999</td>\n",
       "      <td>[Directors:Lana, Wachowski,, Lilly, Wachowski|...</td>\n",
       "    </tr>\n",
       "    <tr>\n",
       "      <th>16</th>\n",
       "      <td>Goodfellas</td>\n",
       "      <td>1990</td>\n",
       "      <td>[Director:Martin, Scorsese|, Stars:Robert, De,...</td>\n",
       "    </tr>\n",
       "    <tr>\n",
       "      <th>17</th>\n",
       "      <td>The Empire Strikes Back</td>\n",
       "      <td>1980</td>\n",
       "      <td>[Director:Irvin, Kershner|, Stars:Mark, Hamill...</td>\n",
       "    </tr>\n",
       "    <tr>\n",
       "      <th>18</th>\n",
       "      <td>One Flew Over the Cuckoo's Nest</td>\n",
       "      <td>1975</td>\n",
       "      <td>[Director:Milos, Forman|, Stars:Jack, Nicholso...</td>\n",
       "    </tr>\n",
       "    <tr>\n",
       "      <th>19</th>\n",
       "      <td>Interstellar</td>\n",
       "      <td>2014</td>\n",
       "      <td>[Director:Christopher, Nolan|, Stars:Matthew, ...</td>\n",
       "    </tr>\n",
       "    <tr>\n",
       "      <th>20</th>\n",
       "      <td>Cidade de Deus</td>\n",
       "      <td>2002</td>\n",
       "      <td>[Directors:Fernando, Meirelles,, Kátia, Lund|,...</td>\n",
       "    </tr>\n",
       "    <tr>\n",
       "      <th>21</th>\n",
       "      <td>Sen to Chihiro no kamikakushi</td>\n",
       "      <td>2001</td>\n",
       "      <td>[Director:Hayao, Miyazaki|, Stars:Daveigh, Cha...</td>\n",
       "    </tr>\n",
       "    <tr>\n",
       "      <th>22</th>\n",
       "      <td>Saving Private Ryan</td>\n",
       "      <td>1998</td>\n",
       "      <td>[Director:Steven, Spielberg|, Stars:Tom, Hanks...</td>\n",
       "    </tr>\n",
       "    <tr>\n",
       "      <th>23</th>\n",
       "      <td>The Green Mile</td>\n",
       "      <td>1999</td>\n",
       "      <td>[Director:Frank, Darabont|, Stars:Tom, Hanks,,...</td>\n",
       "    </tr>\n",
       "    <tr>\n",
       "      <th>24</th>\n",
       "      <td>La vita è bella</td>\n",
       "      <td>1997</td>\n",
       "      <td>[Director:Roberto, Benigni|, Stars:Roberto, Be...</td>\n",
       "    </tr>\n",
       "    <tr>\n",
       "      <th>25</th>\n",
       "      <td>Se7en</td>\n",
       "      <td>1995</td>\n",
       "      <td>[Director:David, Fincher|, Stars:Morgan, Freem...</td>\n",
       "    </tr>\n",
       "    <tr>\n",
       "      <th>26</th>\n",
       "      <td>Terminator 2: Judgment Day</td>\n",
       "      <td>1991</td>\n",
       "      <td>[Director:James, Cameron|, Stars:Arnold, Schwa...</td>\n",
       "    </tr>\n",
       "    <tr>\n",
       "      <th>27</th>\n",
       "      <td>The Silence of the Lambs</td>\n",
       "      <td>1991</td>\n",
       "      <td>[Director:Jonathan, Demme|, Stars:Jodie, Foste...</td>\n",
       "    </tr>\n",
       "    <tr>\n",
       "      <th>28</th>\n",
       "      <td>Star Wars</td>\n",
       "      <td>1977</td>\n",
       "      <td>[Director:George, Lucas|, Stars:Mark, Hamill,,...</td>\n",
       "    </tr>\n",
       "    <tr>\n",
       "      <th>29</th>\n",
       "      <td>Seppuku</td>\n",
       "      <td>1962</td>\n",
       "      <td>[Director:Masaki, Kobayashi|, Stars:Tatsuya, N...</td>\n",
       "    </tr>\n",
       "    <tr>\n",
       "      <th>30</th>\n",
       "      <td>Shichinin no samurai</td>\n",
       "      <td>1954</td>\n",
       "      <td>[Director:Akira, Kurosawa|, Stars:Toshirô, Mif...</td>\n",
       "    </tr>\n",
       "    <tr>\n",
       "      <th>31</th>\n",
       "      <td>It's a Wonderful Life</td>\n",
       "      <td>1946</td>\n",
       "      <td>[Director:Frank, Capra|, Stars:James, Stewart,...</td>\n",
       "    </tr>\n",
       "    <tr>\n",
       "      <th>32</th>\n",
       "      <td>Gisaengchung</td>\n",
       "      <td>2019</td>\n",
       "      <td>[Director:Bong, Joon, Ho|, Stars:Kang-ho, Song...</td>\n",
       "    </tr>\n",
       "    <tr>\n",
       "      <th>33</th>\n",
       "      <td>Whiplash</td>\n",
       "      <td>2014</td>\n",
       "      <td>[Director:Damien, Chazelle|, Stars:Miles, Tell...</td>\n",
       "    </tr>\n",
       "    <tr>\n",
       "      <th>34</th>\n",
       "      <td>The Intouchables</td>\n",
       "      <td>2011</td>\n",
       "      <td>[Directors:Olivier, Nakache,, Éric, Toledano|,...</td>\n",
       "    </tr>\n",
       "    <tr>\n",
       "      <th>35</th>\n",
       "      <td>The Prestige</td>\n",
       "      <td>2006</td>\n",
       "      <td>[Director:Christopher, Nolan|, Stars:Christian...</td>\n",
       "    </tr>\n",
       "    <tr>\n",
       "      <th>36</th>\n",
       "      <td>The Departed</td>\n",
       "      <td>2006</td>\n",
       "      <td>[Director:Martin, Scorsese|, Stars:Leonardo, D...</td>\n",
       "    </tr>\n",
       "    <tr>\n",
       "      <th>37</th>\n",
       "      <td>The Pianist</td>\n",
       "      <td>2002</td>\n",
       "      <td>[Director:Roman, Polanski|, Stars:Adrien, Brod...</td>\n",
       "    </tr>\n",
       "    <tr>\n",
       "      <th>38</th>\n",
       "      <td>Gladiator</td>\n",
       "      <td>2000</td>\n",
       "      <td>[Director:Ridley, Scott|, Stars:Russell, Crowe...</td>\n",
       "    </tr>\n",
       "    <tr>\n",
       "      <th>39</th>\n",
       "      <td>American History X</td>\n",
       "      <td>1998</td>\n",
       "      <td>[Director:Tony, Kaye|, Stars:Edward, Norton,, ...</td>\n",
       "    </tr>\n",
       "    <tr>\n",
       "      <th>40</th>\n",
       "      <td>The Usual Suspects</td>\n",
       "      <td>1995</td>\n",
       "      <td>[Director:Bryan, Singer|, Stars:Kevin, Spacey,...</td>\n",
       "    </tr>\n",
       "    <tr>\n",
       "      <th>41</th>\n",
       "      <td>Léon</td>\n",
       "      <td>1994</td>\n",
       "      <td>[Director:Luc, Besson|, Stars:Jean, Reno,, Gar...</td>\n",
       "    </tr>\n",
       "    <tr>\n",
       "      <th>42</th>\n",
       "      <td>The Lion King</td>\n",
       "      <td>1994</td>\n",
       "      <td>[Directors:Roger, Allers,, Rob, Minkoff|, Star...</td>\n",
       "    </tr>\n",
       "    <tr>\n",
       "      <th>43</th>\n",
       "      <td>Nuovo Cinema Paradiso</td>\n",
       "      <td>1988</td>\n",
       "      <td>[Director:Giuseppe, Tornatore|, Stars:Philippe...</td>\n",
       "    </tr>\n",
       "    <tr>\n",
       "      <th>44</th>\n",
       "      <td>Hotaru no haka</td>\n",
       "      <td>1988</td>\n",
       "      <td>[Director:Isao, Takahata|, Stars:Tsutomu, Tats...</td>\n",
       "    </tr>\n",
       "    <tr>\n",
       "      <th>45</th>\n",
       "      <td>Back to the Future</td>\n",
       "      <td>1985</td>\n",
       "      <td>[Director:Robert, Zemeckis|, Stars:Michael, J....</td>\n",
       "    </tr>\n",
       "    <tr>\n",
       "      <th>46</th>\n",
       "      <td>Apocalypse Now</td>\n",
       "      <td>1979</td>\n",
       "      <td>[Director:Francis, Ford, Coppola|, Stars:Marti...</td>\n",
       "    </tr>\n",
       "    <tr>\n",
       "      <th>47</th>\n",
       "      <td>Alien</td>\n",
       "      <td>1979</td>\n",
       "      <td>[Director:Ridley, Scott|, Stars:Sigourney, Wea...</td>\n",
       "    </tr>\n",
       "    <tr>\n",
       "      <th>48</th>\n",
       "      <td>Once Upon a Time in the West</td>\n",
       "      <td>1968</td>\n",
       "      <td>[Director:Sergio, Leone|, Stars:Henry, Fonda,,...</td>\n",
       "    </tr>\n",
       "    <tr>\n",
       "      <th>49</th>\n",
       "      <td>Psycho</td>\n",
       "      <td>1960</td>\n",
       "      <td>[Director:Alfred, Hitchcock|, Stars:Anthony, P...</td>\n",
       "    </tr>\n",
       "  </tbody>\n",
       "</table>\n",
       "</div>"
      ],
      "text/plain": [
       "                                           Movie_Name Initial_release  \\\n",
       "0                            The Shawshank Redemption            1994   \n",
       "1                                       The Godfather            1972   \n",
       "2                                     The Dark Knight            2008   \n",
       "3       The Lord of the Rings: The Return of the King            2003   \n",
       "4                                    Schindler's List            1993   \n",
       "5                              The Godfather: Part II            1974   \n",
       "6                                        12 Angry Men            1957   \n",
       "7                                        Pulp Fiction            1994   \n",
       "8                   Everything Everywhere All at Once            2022   \n",
       "9                                           Inception            2010   \n",
       "10              The Lord of the Rings: The Two Towers            2002   \n",
       "11                                         Fight Club            1999   \n",
       "12  The Lord of the Rings: The Fellowship of the Ring            2001   \n",
       "13                                       Forrest Gump            1994   \n",
       "14                    Il buono, il brutto, il cattivo            1966   \n",
       "15                                         The Matrix            1999   \n",
       "16                                         Goodfellas            1990   \n",
       "17                            The Empire Strikes Back            1980   \n",
       "18                    One Flew Over the Cuckoo's Nest            1975   \n",
       "19                                       Interstellar            2014   \n",
       "20                                     Cidade de Deus            2002   \n",
       "21                      Sen to Chihiro no kamikakushi            2001   \n",
       "22                                Saving Private Ryan            1998   \n",
       "23                                     The Green Mile            1999   \n",
       "24                                    La vita è bella            1997   \n",
       "25                                              Se7en            1995   \n",
       "26                         Terminator 2: Judgment Day            1991   \n",
       "27                           The Silence of the Lambs            1991   \n",
       "28                                          Star Wars            1977   \n",
       "29                                            Seppuku            1962   \n",
       "30                               Shichinin no samurai            1954   \n",
       "31                              It's a Wonderful Life            1946   \n",
       "32                                       Gisaengchung            2019   \n",
       "33                                           Whiplash            2014   \n",
       "34                                   The Intouchables            2011   \n",
       "35                                       The Prestige            2006   \n",
       "36                                       The Departed            2006   \n",
       "37                                        The Pianist            2002   \n",
       "38                                          Gladiator            2000   \n",
       "39                                 American History X            1998   \n",
       "40                                 The Usual Suspects            1995   \n",
       "41                                               Léon            1994   \n",
       "42                                      The Lion King            1994   \n",
       "43                              Nuovo Cinema Paradiso            1988   \n",
       "44                                     Hotaru no haka            1988   \n",
       "45                                 Back to the Future            1985   \n",
       "46                                     Apocalypse Now            1979   \n",
       "47                                              Alien            1979   \n",
       "48                       Once Upon a Time in the West            1968   \n",
       "49                                             Psycho            1960   \n",
       "\n",
       "                                                 Crew  \n",
       "0   [Director:Frank, Darabont|, Stars:Tim, Robbins...  \n",
       "1   [Director:Francis, Ford, Coppola|, Stars:Marlo...  \n",
       "2   [Director:Christopher, Nolan|, Stars:Christian...  \n",
       "3   [Director:Peter, Jackson|, Stars:Elijah, Wood,...  \n",
       "4   [Director:Steven, Spielberg|, Stars:Liam, Nees...  \n",
       "5   [Director:Francis, Ford, Coppola|, Stars:Al, P...  \n",
       "6   [Director:Sidney, Lumet|, Stars:Henry, Fonda,,...  \n",
       "7   [Director:Quentin, Tarantino|, Stars:John, Tra...  \n",
       "8   [Directors:Dan, Kwan,, Daniel, Scheinert|, Sta...  \n",
       "9   [Director:Christopher, Nolan|, Stars:Leonardo,...  \n",
       "10  [Director:Peter, Jackson|, Stars:Elijah, Wood,...  \n",
       "11  [Director:David, Fincher|, Stars:Brad, Pitt,, ...  \n",
       "12  [Director:Peter, Jackson|, Stars:Elijah, Wood,...  \n",
       "13  [Director:Robert, Zemeckis|, Stars:Tom, Hanks,...  \n",
       "14  [Director:Sergio, Leone|, Stars:Clint, Eastwoo...  \n",
       "15  [Directors:Lana, Wachowski,, Lilly, Wachowski|...  \n",
       "16  [Director:Martin, Scorsese|, Stars:Robert, De,...  \n",
       "17  [Director:Irvin, Kershner|, Stars:Mark, Hamill...  \n",
       "18  [Director:Milos, Forman|, Stars:Jack, Nicholso...  \n",
       "19  [Director:Christopher, Nolan|, Stars:Matthew, ...  \n",
       "20  [Directors:Fernando, Meirelles,, Kátia, Lund|,...  \n",
       "21  [Director:Hayao, Miyazaki|, Stars:Daveigh, Cha...  \n",
       "22  [Director:Steven, Spielberg|, Stars:Tom, Hanks...  \n",
       "23  [Director:Frank, Darabont|, Stars:Tom, Hanks,,...  \n",
       "24  [Director:Roberto, Benigni|, Stars:Roberto, Be...  \n",
       "25  [Director:David, Fincher|, Stars:Morgan, Freem...  \n",
       "26  [Director:James, Cameron|, Stars:Arnold, Schwa...  \n",
       "27  [Director:Jonathan, Demme|, Stars:Jodie, Foste...  \n",
       "28  [Director:George, Lucas|, Stars:Mark, Hamill,,...  \n",
       "29  [Director:Masaki, Kobayashi|, Stars:Tatsuya, N...  \n",
       "30  [Director:Akira, Kurosawa|, Stars:Toshirô, Mif...  \n",
       "31  [Director:Frank, Capra|, Stars:James, Stewart,...  \n",
       "32  [Director:Bong, Joon, Ho|, Stars:Kang-ho, Song...  \n",
       "33  [Director:Damien, Chazelle|, Stars:Miles, Tell...  \n",
       "34  [Directors:Olivier, Nakache,, Éric, Toledano|,...  \n",
       "35  [Director:Christopher, Nolan|, Stars:Christian...  \n",
       "36  [Director:Martin, Scorsese|, Stars:Leonardo, D...  \n",
       "37  [Director:Roman, Polanski|, Stars:Adrien, Brod...  \n",
       "38  [Director:Ridley, Scott|, Stars:Russell, Crowe...  \n",
       "39  [Director:Tony, Kaye|, Stars:Edward, Norton,, ...  \n",
       "40  [Director:Bryan, Singer|, Stars:Kevin, Spacey,...  \n",
       "41  [Director:Luc, Besson|, Stars:Jean, Reno,, Gar...  \n",
       "42  [Directors:Roger, Allers,, Rob, Minkoff|, Star...  \n",
       "43  [Director:Giuseppe, Tornatore|, Stars:Philippe...  \n",
       "44  [Director:Isao, Takahata|, Stars:Tsutomu, Tats...  \n",
       "45  [Director:Robert, Zemeckis|, Stars:Michael, J....  \n",
       "46  [Director:Francis, Ford, Coppola|, Stars:Marti...  \n",
       "47  [Director:Ridley, Scott|, Stars:Sigourney, Wea...  \n",
       "48  [Director:Sergio, Leone|, Stars:Henry, Fonda,,...  \n",
       "49  [Director:Alfred, Hitchcock|, Stars:Anthony, P...  "
      ]
     },
     "execution_count": 179,
     "metadata": {},
     "output_type": "execute_result"
    }
   ],
   "source": [
    "TOP50"
   ]
  },
  {
   "cell_type": "code",
   "execution_count": 181,
   "id": "7de666a7",
   "metadata": {},
   "outputs": [],
   "source": [
    "# convert dataframe into csv mode\n",
    "TOP50.to_csv('top50.csv')"
   ]
  },
  {
   "cell_type": "markdown",
   "id": "42337e73",
   "metadata": {},
   "source": [
    "# 4. Write a program to scrape all the URLs available on the Wikipedia page of any searched keyword."
   ]
  },
  {
   "cell_type": "code",
   "execution_count": 182,
   "id": "31845e88",
   "metadata": {},
   "outputs": [],
   "source": [
    "url='https://www.wikipedia.org/'\n",
    "page=requests.get(url).text"
   ]
  },
  {
   "cell_type": "code",
   "execution_count": 136,
   "id": "831601c9",
   "metadata": {},
   "outputs": [],
   "source": [
    "soup=BeautifulSoup(page,'html.parser')"
   ]
  },
  {
   "cell_type": "code",
   "execution_count": 137,
   "id": "a216ef6c",
   "metadata": {},
   "outputs": [],
   "source": [
    "Url=[]\n",
    "for link in soup.findAll('a'):\n",
    "    Url.append(link.get('href'))"
   ]
  },
  {
   "cell_type": "code",
   "execution_count": 146,
   "id": "956f47e7",
   "metadata": {},
   "outputs": [],
   "source": [
    "URLs=pd.DataFrame({})\n",
    "URLs['URL']=Url"
   ]
  },
  {
   "cell_type": "code",
   "execution_count": 147,
   "id": "8d8fd5a9",
   "metadata": {},
   "outputs": [
    {
     "data": {
      "text/html": [
       "<div>\n",
       "<style scoped>\n",
       "    .dataframe tbody tr th:only-of-type {\n",
       "        vertical-align: middle;\n",
       "    }\n",
       "\n",
       "    .dataframe tbody tr th {\n",
       "        vertical-align: top;\n",
       "    }\n",
       "\n",
       "    .dataframe thead th {\n",
       "        text-align: right;\n",
       "    }\n",
       "</style>\n",
       "<table border=\"1\" class=\"dataframe\">\n",
       "  <thead>\n",
       "    <tr style=\"text-align: right;\">\n",
       "      <th></th>\n",
       "      <th>URL</th>\n",
       "    </tr>\n",
       "  </thead>\n",
       "  <tbody>\n",
       "    <tr>\n",
       "      <th>0</th>\n",
       "      <td>//en.wikipedia.org/</td>\n",
       "    </tr>\n",
       "    <tr>\n",
       "      <th>1</th>\n",
       "      <td>//ja.wikipedia.org/</td>\n",
       "    </tr>\n",
       "    <tr>\n",
       "      <th>2</th>\n",
       "      <td>//ru.wikipedia.org/</td>\n",
       "    </tr>\n",
       "    <tr>\n",
       "      <th>3</th>\n",
       "      <td>//es.wikipedia.org/</td>\n",
       "    </tr>\n",
       "    <tr>\n",
       "      <th>4</th>\n",
       "      <td>//de.wikipedia.org/</td>\n",
       "    </tr>\n",
       "    <tr>\n",
       "      <th>...</th>\n",
       "      <td>...</td>\n",
       "    </tr>\n",
       "    <tr>\n",
       "      <th>322</th>\n",
       "      <td>//species.wikimedia.org/</td>\n",
       "    </tr>\n",
       "    <tr>\n",
       "      <th>323</th>\n",
       "      <td>//meta.wikimedia.org/</td>\n",
       "    </tr>\n",
       "    <tr>\n",
       "      <th>324</th>\n",
       "      <td>https://creativecommons.org/licenses/by-sa/3.0/</td>\n",
       "    </tr>\n",
       "    <tr>\n",
       "      <th>325</th>\n",
       "      <td>https://meta.wikimedia.org/wiki/Terms_of_use</td>\n",
       "    </tr>\n",
       "    <tr>\n",
       "      <th>326</th>\n",
       "      <td>https://meta.wikimedia.org/wiki/Privacy_policy</td>\n",
       "    </tr>\n",
       "  </tbody>\n",
       "</table>\n",
       "<p>327 rows × 1 columns</p>\n",
       "</div>"
      ],
      "text/plain": [
       "                                                 URL\n",
       "0                                //en.wikipedia.org/\n",
       "1                                //ja.wikipedia.org/\n",
       "2                                //ru.wikipedia.org/\n",
       "3                                //es.wikipedia.org/\n",
       "4                                //de.wikipedia.org/\n",
       "..                                               ...\n",
       "322                         //species.wikimedia.org/\n",
       "323                            //meta.wikimedia.org/\n",
       "324  https://creativecommons.org/licenses/by-sa/3.0/\n",
       "325     https://meta.wikimedia.org/wiki/Terms_of_use\n",
       "326   https://meta.wikimedia.org/wiki/Privacy_policy\n",
       "\n",
       "[327 rows x 1 columns]"
      ]
     },
     "execution_count": 147,
     "metadata": {},
     "output_type": "execute_result"
    }
   ],
   "source": [
    "URLs"
   ]
  },
  {
   "cell_type": "code",
   "execution_count": 183,
   "id": "b035577c",
   "metadata": {},
   "outputs": [],
   "source": [
    "# convert dataframe into csv mode\n",
    "URLs.to_csv('URLs.csv')"
   ]
  },
  {
   "cell_type": "code",
   "execution_count": null,
   "id": "847db2f8",
   "metadata": {},
   "outputs": [],
   "source": []
  }
 ],
 "metadata": {
  "kernelspec": {
   "display_name": "Python 3",
   "language": "python",
   "name": "python3"
  },
  "language_info": {
   "codemirror_mode": {
    "name": "ipython",
    "version": 3
   },
   "file_extension": ".py",
   "mimetype": "text/x-python",
   "name": "python",
   "nbconvert_exporter": "python",
   "pygments_lexer": "ipython3",
   "version": "3.8.8"
  }
 },
 "nbformat": 4,
 "nbformat_minor": 5
}
